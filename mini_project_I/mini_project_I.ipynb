{
  "nbformat": 4,
  "nbformat_minor": 0,
  "metadata": {
    "kernelspec": {
      "display_name": "Python 3",
      "language": "python",
      "name": "python3"
    },
    "language_info": {
      "codemirror_mode": {
        "name": "ipython",
        "version": 3
      },
      "file_extension": ".py",
      "mimetype": "text/x-python",
      "name": "python",
      "nbconvert_exporter": "python",
      "pygments_lexer": "ipython3",
      "version": "3.8.8"
    },
    "colab": {
      "name": "mini-project-I.ipynb",
      "provenance": []
    }
  },
  "cells": [
    {
      "cell_type": "markdown",
      "metadata": {
        "id": "pPKKCA5oy1W9"
      },
      "source": [
        "# Mini-Project I\n",
        "During this project, we will practice handling of complex lists and dictionaries in Python. Plus, we will learn how to work with API documentation. Don't be afraid to search for the information in the [**documentation**](https://api.tfl.gov.uk/swagger/ui/index.html?url=/swagger/docs/v1#!/AccidentStats/AccidentStats_Get).\n",
        "\n",
        "Let's go to the tasks, we have some parsing to do :)!!"
      ]
    },
    {
      "cell_type": "code",
      "metadata": {
        "id": "xEe3-Up9y1W_"
      },
      "source": [
        "import requests\n",
        "import os\n",
        "import json\n",
        "import pprint"
      ],
      "execution_count": 1,
      "outputs": []
    },
    {
      "cell_type": "markdown",
      "metadata": {
        "id": "Dr6ySiYQy1XC"
      },
      "source": [
        "## Demo"
      ]
    },
    {
      "cell_type": "code",
      "metadata": {
        "id": "wEfG0HRWy1XC"
      },
      "source": [
        "# don't forget package os\n",
        "#app_id = os.environ[\"<your app id name>\"]\n",
        "#app_key = os.environ[\"<your app key name>\"]\n",
        "#url_append = f'?app_id={app_id}&app_key={app_key}' "
      ],
      "execution_count": 2,
      "outputs": []
    },
    {
      "cell_type": "code",
      "metadata": {
        "scrolled": true,
        "id": "ug4DWZd4y1XD"
      },
      "source": [
        "#print(url_append)"
      ],
      "execution_count": 3,
      "outputs": []
    },
    {
      "cell_type": "code",
      "metadata": {
        "id": "IUVVycPYy1XE"
      },
      "source": [
        "# URL\n",
        "url = \"https://api.tfl.gov.uk/AirQuality\""
      ],
      "execution_count": 4,
      "outputs": []
    },
    {
      "cell_type": "code",
      "metadata": {
        "id": "yM7XDUSny1XF"
      },
      "source": [
        "# We send the request to the API\n",
        "# NOTE: if you don't have your APP_KEY, run this without the url_append\n",
        "res = requests.get(url)#+url_append)"
      ],
      "execution_count": 5,
      "outputs": []
    },
    {
      "cell_type": "code",
      "metadata": {
        "colab": {
          "base_uri": "https://localhost:8080/"
        },
        "id": "lKUed-W4y1XG",
        "outputId": "4f993aaa-1539-4377-8a84-1457dd231954"
      },
      "source": [
        "# We can check if the request was successful\n",
        "res.status_code"
      ],
      "execution_count": 6,
      "outputs": [
        {
          "output_type": "execute_result",
          "data": {
            "text/plain": [
              "200"
            ]
          },
          "metadata": {},
          "execution_count": 6
        }
      ]
    },
    {
      "cell_type": "code",
      "metadata": {
        "colab": {
          "base_uri": "https://localhost:8080/"
        },
        "id": "UKiILnnMy1XH",
        "outputId": "9f470de3-a728-4494-ac1a-51d645f4b5a1"
      },
      "source": [
        "# We can export the information that was returned using method .json()\n",
        "res.json()"
      ],
      "execution_count": 7,
      "outputs": [
        {
          "output_type": "execute_result",
          "data": {
            "text/plain": [
              "{'$id': '1',\n",
              " '$type': 'Tfl.Api.Presentation.Entities.LondonAirForecast, Tfl.Api.Presentation.Entities',\n",
              " 'currentForecast': [{'$id': '2',\n",
              "   '$type': 'Tfl.Api.Presentation.Entities.CurrentForecast, Tfl.Api.Presentation.Entities',\n",
              "   'forecastBand': 'Low',\n",
              "   'forecastID': '34315',\n",
              "   'forecastSummary': 'Low air pollution forecast valid from Saturday 4 December to end of Saturday 4 December GMT',\n",
              "   'forecastText': 'Saturday will be another chilly day, overcast with a moderate breeze. &lt;br/&gt;&lt;br/&gt;The continuing Atlantic breeze will ensure good dispersion of locally emissions.  Air pollution will remain &#39;Low&#39; throughout the forecast period for the following pollutants:&lt;br/&gt;&lt;br/&gt;Nitrogen Dioxide&lt;br/&gt;Ozone&lt;br/&gt;Sulphur Dioxide &lt;br/&gt;PM10 Particulates&lt;br/&gt;PM2.5 Particulates',\n",
              "   'forecastType': 'Current',\n",
              "   'fromDate': '2021-04-12T00:00:00Z',\n",
              "   'nO2Band': 'Low',\n",
              "   'o3Band': 'Low',\n",
              "   'pM10Band': 'Low',\n",
              "   'pM25Band': 'Low',\n",
              "   'publishedDate': '2021-02-12T11:42:17Z',\n",
              "   'sO2Band': 'Low',\n",
              "   'toDate': '2021-04-12T23:59:00Z'},\n",
              "  {'$id': '3',\n",
              "   '$type': 'Tfl.Api.Presentation.Entities.CurrentForecast, Tfl.Api.Presentation.Entities',\n",
              "   'forecastBand': 'Low',\n",
              "   'forecastID': '34327',\n",
              "   'forecastSummary': 'Low air pollution forecast valid from Sunday 5 December to end of Sunday 5 December GMT',\n",
              "   'forecastText': 'Sunday will be dry but overcast with maximum temperatures around 7 degrees.&lt;br/&gt;&lt;br/&gt;A continuing Atlantic airflow will keep air pollution &#39;Low&#39; throughout the forecast period for the following pollutants:&lt;br/&gt;&lt;br/&gt;Nitrogen Dioxide&lt;br/&gt;Ozone&lt;br/&gt;Sulphur Dioxide &lt;br/&gt;PM10 Particulates&lt;br/&gt;PM2.5 Particulates',\n",
              "   'forecastType': 'Future',\n",
              "   'fromDate': '2021-05-12T00:00:00Z',\n",
              "   'nO2Band': 'Low',\n",
              "   'o3Band': 'Low',\n",
              "   'pM10Band': 'Low',\n",
              "   'pM25Band': 'Low',\n",
              "   'publishedDate': '2021-03-12T12:47:48Z',\n",
              "   'sO2Band': 'Low',\n",
              "   'toDate': '2021-05-12T23:59:00Z'}],\n",
              " 'disclaimerText': 'This forecast is intended to provide information on expected pollution levels in areas of significant public exposure. It may not apply in very specific locations close to unusually strong or short-lived local sources of pollution.',\n",
              " 'forecastURL': 'http://londonair.org.uk/forecast',\n",
              " 'updateFrequency': '1',\n",
              " 'updatePeriod': 'hourly'}"
            ]
          },
          "metadata": {},
          "execution_count": 7
        }
      ]
    },
    {
      "cell_type": "markdown",
      "metadata": {
        "id": "WSXL4Q4Ry1XI"
      },
      "source": [
        "## Task\n",
        "Parse the dictionary and print the AirQuality predictions for tomorrow"
      ]
    },
    {
      "cell_type": "code",
      "metadata": {
        "id": "SF4ZI9uCy1XI"
      },
      "source": [
        "predictions_airQuality = res.json()['currentForecast'][1]"
      ],
      "execution_count": 8,
      "outputs": []
    },
    {
      "cell_type": "code",
      "metadata": {
        "colab": {
          "base_uri": "https://localhost:8080/"
        },
        "id": "i28mTlZEy1XI",
        "outputId": "ab891b60-051b-46b8-d001-de6dd4f37226"
      },
      "source": [
        "pprint.pprint(predictions_airQuality)"
      ],
      "execution_count": 9,
      "outputs": [
        {
          "output_type": "stream",
          "name": "stdout",
          "text": [
            "{'$id': '3',\n",
            " '$type': 'Tfl.Api.Presentation.Entities.CurrentForecast, '\n",
            "          'Tfl.Api.Presentation.Entities',\n",
            " 'forecastBand': 'Low',\n",
            " 'forecastID': '34327',\n",
            " 'forecastSummary': 'Low air pollution forecast valid from Sunday 5 December '\n",
            "                    'to end of Sunday 5 December GMT',\n",
            " 'forecastText': 'Sunday will be dry but overcast with maximum temperatures '\n",
            "                 'around 7 degrees.&lt;br/&gt;&lt;br/&gt;A continuing Atlantic '\n",
            "                 'airflow will keep air pollution &#39;Low&#39; throughout the '\n",
            "                 'forecast period for the following '\n",
            "                 'pollutants:&lt;br/&gt;&lt;br/&gt;Nitrogen '\n",
            "                 'Dioxide&lt;br/&gt;Ozone&lt;br/&gt;Sulphur Dioxide '\n",
            "                 '&lt;br/&gt;PM10 Particulates&lt;br/&gt;PM2.5 Particulates',\n",
            " 'forecastType': 'Future',\n",
            " 'fromDate': '2021-05-12T00:00:00Z',\n",
            " 'nO2Band': 'Low',\n",
            " 'o3Band': 'Low',\n",
            " 'pM10Band': 'Low',\n",
            " 'pM25Band': 'Low',\n",
            " 'publishedDate': '2021-03-12T12:47:48Z',\n",
            " 'sO2Band': 'Low',\n",
            " 'toDate': '2021-05-12T23:59:00Z'}\n"
          ]
        }
      ]
    },
    {
      "cell_type": "markdown",
      "metadata": {
        "id": "EB4JGQJTy1XI"
      },
      "source": [
        "## Task\n",
        "What are the different modes of transport which are operated by Transfer for London? How many of modes do they have?\n",
        "\n",
        "Print the list with different modes of transport, plus their count. Example output:\n",
        "```\n",
        "[bus, cable-car,.....]\n",
        "Number of different modes of transport is: xyz\n",
        "```\n",
        "\n",
        "We need to search the documentation for correct request."
      ]
    },
    {
      "cell_type": "code",
      "metadata": {
        "id": "dSAJx28ay1XJ"
      },
      "source": [
        "# URL\n",
        "url_transportation = \"https://api.tfl.gov.uk/Journey/Meta/Modes\"\n",
        "res_t = requests.get(url_transportation)"
      ],
      "execution_count": 10,
      "outputs": []
    },
    {
      "cell_type": "code",
      "metadata": {
        "colab": {
          "base_uri": "https://localhost:8080/"
        },
        "id": "jO_5ajrcy1XJ",
        "outputId": "e58b0d26-8d13-4098-b2f7-3b5f31f50b97"
      },
      "source": [
        "res_t.status_code\n"
      ],
      "execution_count": 11,
      "outputs": [
        {
          "output_type": "execute_result",
          "data": {
            "text/plain": [
              "200"
            ]
          },
          "metadata": {},
          "execution_count": 11
        }
      ]
    },
    {
      "cell_type": "code",
      "metadata": {
        "colab": {
          "base_uri": "https://localhost:8080/"
        },
        "id": "lbBdxe2Jy1XJ",
        "outputId": "64d6c536-8485-40b2-d10e-af98a4aeba15"
      },
      "source": [
        "# mode of transportation\n",
        "transportation_mode = dict()\n",
        "for i in range(len(res_t.json())):\n",
        "    transportation_mode[res_t.json()[i]['modeName']] = transportation_mode.get(0,1)+1\n",
        "transportation_mode.keys()"
      ],
      "execution_count": 12,
      "outputs": [
        {
          "output_type": "execute_result",
          "data": {
            "text/plain": [
              "dict_keys(['black-cab-as-customer', 'black-cab-as-driver', 'bus', 'cable-car', 'coach', 'cycle', 'cycle-hire', 'dlr', 'electric-car', 'goods-vehicle-as-driver', 'interchange-keep-sitting', 'interchange-secure', 'international-rail', 'motorbike-scooter', 'national-rail', 'overground', 'plane', 'private-car', 'private-coach-as-customer', 'private-coach-as-driver', 'private-hire-as-customer', 'private-hire-as-driver', 'replacement-bus', 'river-bus', 'river-tour', 'taxi', 'tflrail', 'tram', 'tube', 'walking'])"
            ]
          },
          "metadata": {},
          "execution_count": 12
        }
      ]
    },
    {
      "cell_type": "code",
      "metadata": {
        "colab": {
          "base_uri": "https://localhost:8080/"
        },
        "id": "gkleMVTuzoEM",
        "outputId": "e500597e-90f1-448b-97e5-c4b5733a41f5"
      },
      "source": [
        "print(len(transportation_mode.keys())-1) # walking is not transportation type"
      ],
      "execution_count": 13,
      "outputs": [
        {
          "output_type": "stream",
          "name": "stdout",
          "text": [
            "29\n"
          ]
        }
      ]
    },
    {
      "cell_type": "markdown",
      "metadata": {
        "id": "Qe2ywFtuy1XK"
      },
      "source": [
        "## Task\n",
        "How many BikePoints in London are operated by Transfor for London? How many docks are in **all** BikePoints? There is the information for empty and full docks for each BikePoint."
      ]
    },
    {
      "cell_type": "code",
      "metadata": {
        "id": "o4nPzCJsy1XK"
      },
      "source": [
        "url_bikepoints = \"https://api.tfl.gov.uk/BikePoint\"\n",
        "res_b = requests.get(url_bikepoints)"
      ],
      "execution_count": 14,
      "outputs": []
    },
    {
      "cell_type": "code",
      "metadata": {
        "colab": {
          "base_uri": "https://localhost:8080/"
        },
        "id": "61uAh9tcy1XK",
        "outputId": "bddfe7c6-4058-4d3f-be32-f3f855a9dffe"
      },
      "source": [
        "res_b.status_code"
      ],
      "execution_count": 15,
      "outputs": [
        {
          "output_type": "execute_result",
          "data": {
            "text/plain": [
              "200"
            ]
          },
          "metadata": {},
          "execution_count": 15
        }
      ]
    },
    {
      "cell_type": "code",
      "metadata": {
        "scrolled": true,
        "colab": {
          "base_uri": "https://localhost:8080/"
        },
        "id": "gbd9U6Vzy1XL",
        "outputId": "4deeabf4-fc44-4204-af58-24ed4c88e5b0"
      },
      "source": [
        "#BikePoints in London are operated by Transfor for London\n",
        "total_bikepoints = 0\n",
        "for i in range (len(res_b.json())):\n",
        "  if res_b.json()[i]['placeType'] == 'BikePoint':\n",
        "    total_bikepoints +=1\n",
        "\n",
        "print(total_bikepoints)"
      ],
      "execution_count": 16,
      "outputs": [
        {
          "output_type": "stream",
          "name": "stdout",
          "text": [
            "788\n"
          ]
        }
      ]
    },
    {
      "cell_type": "code",
      "metadata": {
        "colab": {
          "base_uri": "https://localhost:8080/"
        },
        "id": "XXxB--fiy1XL",
        "outputId": "e388c9f0-e53c-407f-b660-024c06158cfb"
      },
      "source": [
        "# docks for all bike points for 'NbDocks' in 'additionalProperties'\n",
        "count_docks = 0\n",
        "for i in range(total_bikepoints):\n",
        "  inf = res_b.json()[i]['additionalProperties']\n",
        "  for j in range(len(inf)):\n",
        "    if inf[j]['key'] == 'NbDocks':\n",
        "      count_docks +=1\n",
        "count_docks"
      ],
      "execution_count": 17,
      "outputs": [
        {
          "output_type": "execute_result",
          "data": {
            "text/plain": [
              "788"
            ]
          },
          "metadata": {},
          "execution_count": 17
        }
      ]
    },
    {
      "cell_type": "markdown",
      "metadata": {
        "id": "u5zGoJucy1XL"
      },
      "source": [
        "## Task\n",
        "How many tube and bus lines are in London? Print names of all tube lines."
      ]
    },
    {
      "cell_type": "code",
      "metadata": {
        "id": "k6e6iN3Dy1XM"
      },
      "source": [
        "url_lines = \"https://api.tfl.gov.uk/Line/mode/tube%2Cbus\"\n",
        "res_l = requests.get(url_lines)"
      ],
      "execution_count": 18,
      "outputs": []
    },
    {
      "cell_type": "code",
      "metadata": {
        "colab": {
          "base_uri": "https://localhost:8080/"
        },
        "id": "JXtBrjKM6b-a",
        "outputId": "0460b98a-ca73-45f3-89ce-66289dced69d"
      },
      "source": [
        "res_l.json()[687]"
      ],
      "execution_count": 19,
      "outputs": [
        {
          "output_type": "execute_result",
          "data": {
            "text/plain": [
              "{'$type': 'Tfl.Api.Presentation.Entities.Line, Tfl.Api.Presentation.Entities',\n",
              " 'created': '2021-12-01T11:42:39.003Z',\n",
              " 'crowding': {'$type': 'Tfl.Api.Presentation.Entities.Crowding, Tfl.Api.Presentation.Entities'},\n",
              " 'disruptions': [],\n",
              " 'id': 'x68',\n",
              " 'lineStatuses': [],\n",
              " 'modeName': 'bus',\n",
              " 'modified': '2021-12-01T11:42:39.003Z',\n",
              " 'name': 'X68',\n",
              " 'routeSections': [],\n",
              " 'serviceTypes': [{'$type': 'Tfl.Api.Presentation.Entities.LineServiceTypeInfo, Tfl.Api.Presentation.Entities',\n",
              "   'name': 'Regular',\n",
              "   'uri': '/Line/Route?ids=X68&serviceTypes=Regular'}]}"
            ]
          },
          "metadata": {},
          "execution_count": 19
        }
      ]
    },
    {
      "cell_type": "code",
      "metadata": {
        "colab": {
          "base_uri": "https://localhost:8080/"
        },
        "id": "HBesyQqey1XM",
        "outputId": "7577748d-b76f-4cb2-d06e-6abf17db9231"
      },
      "source": [
        "res_l.status_code\n",
        "res_l.json()\n",
        "total_lines= len(res_l.json())\n",
        "total_lines"
      ],
      "execution_count": 20,
      "outputs": [
        {
          "output_type": "execute_result",
          "data": {
            "text/plain": [
              "688"
            ]
          },
          "metadata": {},
          "execution_count": 20
        }
      ]
    },
    {
      "cell_type": "code",
      "metadata": {
        "colab": {
          "base_uri": "https://localhost:8080/"
        },
        "id": "KQBzLQFsy1XM",
        "outputId": "d93be411-4a51-4447-a756-39e2fec3a8b4"
      },
      "source": [
        "pp = pprint.PrettyPrinter(indent=4)\n",
        "for i in range(total_lines):\n",
        "    if res_l.json()[i]['modeName'] =='tube':\n",
        "        pp.pprint(res_l.json()[i]['name'])"
      ],
      "execution_count": 21,
      "outputs": [
        {
          "output_type": "stream",
          "name": "stdout",
          "text": [
            "'Bakerloo'\n",
            "'Central'\n",
            "'Circle'\n",
            "'District'\n",
            "'Hammersmith & City'\n",
            "'Jubilee'\n",
            "'Metropolitan'\n",
            "'Northern'\n",
            "'Piccadilly'\n",
            "'Victoria'\n",
            "'Waterloo & City'\n"
          ]
        }
      ]
    },
    {
      "cell_type": "markdown",
      "metadata": {
        "id": "CeacTfK6y1XN"
      },
      "source": [
        "## Task\n",
        "How many station has `victoria` line?"
      ]
    },
    {
      "cell_type": "code",
      "metadata": {
        "id": "IsTS-DWty1XN"
      },
      "source": [
        "url_lines_v = \"https://api.tfl.gov.uk/Line/victoria/StopPoints\"\n",
        "res_l_v = requests.get(url_lines_v)"
      ],
      "execution_count": 22,
      "outputs": []
    },
    {
      "cell_type": "code",
      "metadata": {
        "colab": {
          "base_uri": "https://localhost:8080/"
        },
        "id": "0seeoJdFy1XN",
        "outputId": "e8a4c7ea-fcad-4879-d683-1c25dd2f9ec4"
      },
      "source": [
        "res_l_v.status_code\n",
        "#stations in victoria line\n",
        "len(res_l_v.json())"
      ],
      "execution_count": 23,
      "outputs": [
        {
          "output_type": "execute_result",
          "data": {
            "text/plain": [
              "16"
            ]
          },
          "metadata": {},
          "execution_count": 23
        }
      ]
    },
    {
      "cell_type": "markdown",
      "metadata": {
        "id": "V2ms28Duy1XN"
      },
      "source": [
        "## Task\n",
        "Plan the journey from Heathrow Airport to Tower Bridge using Bus and Tube? Which way is faster? Example output:\n",
        "```\n",
        "Planned duration:\n",
        "Bus: x minutes\n",
        "Tube: y minutes\n",
        "```\n",
        "\n",
        "We need to search the documentation for correct requests and parameters we need."
      ]
    },
    {
      "cell_type": "code",
      "metadata": {
        "colab": {
          "base_uri": "https://localhost:8080/"
        },
        "id": "Xf-x5hZ-y1XN",
        "outputId": "3d134872-c9ec-4fd2-a8f2-107695b40250"
      },
      "source": [
        "mode = 'bus'\n",
        "url_by_bus = 'https://api.tfl.gov.uk/Journey/JourneyResults/Heathrow%20Airport/to/Tower%20Bridge?date=20211205&time=0900&timeIs=Departing&journeyPreference=LeastTime&mode='+mode+'&walkingSpeed=Average&walkingOptimization=True'\n",
        "res_by_bus = requests.get(url_by_bus)\n",
        "res_by_bus.status_code"
      ],
      "execution_count": 24,
      "outputs": [
        {
          "output_type": "execute_result",
          "data": {
            "text/plain": [
              "300"
            ]
          },
          "metadata": {},
          "execution_count": 24
        }
      ]
    },
    {
      "cell_type": "code",
      "metadata": {
        "colab": {
          "base_uri": "https://localhost:8080/"
        },
        "id": "YRb1dZxry1XN",
        "outputId": "f0c07147-aa24-4495-dd42-b406a98b0920"
      },
      "source": [
        "point_of_interest = []\n",
        "for i in range(len(res_by_bus.json())):\n",
        "  if res_by_bus.json()['toLocationDisambiguation']['disambiguationOptions'][i]['place']['commonName'] == 'London Bridge, Tower Bridge Road':\n",
        "    point_of_interest.append(res_by_bus.json()['toLocationDisambiguation']['disambiguationOptions'][i])\n",
        "\n",
        "new_url = point_of_interest[0]['uri']\n",
        "\n",
        "url_by_bus = 'https://api.tfl.gov.uk'+new_url\n",
        "res_by_bus = requests.get(url_by_bus)\n",
        "res_by_bus.status_code"
      ],
      "execution_count": 25,
      "outputs": [
        {
          "output_type": "execute_result",
          "data": {
            "text/plain": [
              "300"
            ]
          },
          "metadata": {},
          "execution_count": 25
        }
      ]
    },
    {
      "cell_type": "code",
      "metadata": {
        "colab": {
          "base_uri": "https://localhost:8080/",
          "height": 36
        },
        "id": "mdD0TWncvy5c",
        "outputId": "19aade99-2356-4877-fdaf-1d2f1910a30f"
      },
      "source": [
        "url_by_bus"
      ],
      "execution_count": 26,
      "outputs": [
        {
          "output_type": "execute_result",
          "data": {
            "application/vnd.google.colaboratory.intrinsic+json": {
              "type": "string"
            },
            "text/plain": [
              "'https://api.tfl.gov.uk/journey/journeyresults/heathrowairport/to/1013746?date=20211205&time=0900&timeis=departing&journeypreference=leasttime&mode=bus&walkingspeed=average&walkingoptimization=true'"
            ]
          },
          "metadata": {},
          "execution_count": 26
        }
      ]
    },
    {
      "cell_type": "code",
      "metadata": {
        "colab": {
          "base_uri": "https://localhost:8080/"
        },
        "id": "OlSLhwDzTvSu",
        "outputId": "2f1155cc-c085-4067-9d20-116a6edc1c89"
      },
      "source": [
        "res_by_bus.json()['fromLocationDisambiguation']"
      ],
      "execution_count": 27,
      "outputs": [
        {
          "output_type": "execute_result",
          "data": {
            "text/plain": [
              "{'$type': 'Tfl.Api.Presentation.Entities.JourneyPlanner.Disambiguation, Tfl.Api.Presentation.Entities',\n",
              " 'disambiguationOptions': [{'$type': 'Tfl.Api.Presentation.Entities.JourneyPlanner.DisambiguationOption, Tfl.Api.Presentation.Entities',\n",
              "   'matchQuality': 950,\n",
              "   'parameterValue': '51.46962511264,-0.44968473098',\n",
              "   'place': {'$type': 'Tfl.Api.Presentation.Entities.Place, Tfl.Api.Presentation.Entities',\n",
              "    'additionalProperties': [],\n",
              "    'commonName': 'Hillingdon, Heathrow Airport Terminal 2',\n",
              "    'lat': 51.46962511264,\n",
              "    'lon': -0.44968473098,\n",
              "    'placeType': 'PointOfInterest',\n",
              "    'url': '/Place/'},\n",
              "   'uri': '/journey/journeyresults/51.46962511264,-0.44968473098/to/1013746?date=20211205&time=0900&timeis=departing&journeypreference=leasttime&mode=bus&walkingspeed=average&walkingoptimization=true'},\n",
              "  {'$type': 'Tfl.Api.Presentation.Entities.JourneyPlanner.DisambiguationOption, Tfl.Api.Presentation.Entities',\n",
              "   'matchQuality': 950,\n",
              "   'parameterValue': '1008026',\n",
              "   'place': {'$type': 'Tfl.Api.Presentation.Entities.StopPoint, Tfl.Api.Presentation.Entities',\n",
              "    'additionalProperties': [],\n",
              "    'commonName': 'Heathrow Airport, Heathrow Airport Terminal 3',\n",
              "    'icsCode': '1008026',\n",
              "    'lat': 51.47254839367,\n",
              "    'lon': -0.45724573875,\n",
              "    'modes': ['bus'],\n",
              "    'naptanId': '490G000588',\n",
              "    'placeType': 'StopPoint',\n",
              "    'stopType': 'stop',\n",
              "    'url': '/StopPoint/490G000588'},\n",
              "   'uri': '/journey/journeyresults/1008026/to/1013746?date=20211205&time=0900&timeis=departing&journeypreference=leasttime&mode=bus&walkingspeed=average&walkingoptimization=true'},\n",
              "  {'$type': 'Tfl.Api.Presentation.Entities.JourneyPlanner.DisambiguationOption, Tfl.Api.Presentation.Entities',\n",
              "   'matchQuality': 943,\n",
              "   'parameterValue': '51.47238603683,-0.48688352825',\n",
              "   'place': {'$type': 'Tfl.Api.Presentation.Entities.Place, Tfl.Api.Presentation.Entities',\n",
              "    'additionalProperties': [],\n",
              "    'commonName': 'Hillingdon, London Heathrow Airport Terminal 5',\n",
              "    'lat': 51.47238603683,\n",
              "    'lon': -0.48688352825,\n",
              "    'placeType': 'PointOfInterest',\n",
              "    'url': '/Place/'},\n",
              "   'uri': '/journey/journeyresults/51.47238603683,-0.48688352825/to/1013746?date=20211205&time=0900&timeis=departing&journeypreference=leasttime&mode=bus&walkingspeed=average&walkingoptimization=true'},\n",
              "  {'$type': 'Tfl.Api.Presentation.Entities.JourneyPlanner.DisambiguationOption, Tfl.Api.Presentation.Entities',\n",
              "   'matchQuality': 939,\n",
              "   'parameterValue': '51.47212537413,-0.48689215164',\n",
              "   'place': {'$type': 'Tfl.Api.Presentation.Entities.Place, Tfl.Api.Presentation.Entities',\n",
              "    'additionalProperties': [],\n",
              "    'commonName': 'Hillingdon, Heathrow Airport Terminal 5 Arrivals',\n",
              "    'lat': 51.47212537413,\n",
              "    'lon': -0.48689215164,\n",
              "    'placeType': 'PointOfInterest',\n",
              "    'url': '/Place/'},\n",
              "   'uri': '/journey/journeyresults/51.47212537413,-0.48689215164/to/1013746?date=20211205&time=0900&timeis=departing&journeypreference=leasttime&mode=bus&walkingspeed=average&walkingoptimization=true'},\n",
              "  {'$type': 'Tfl.Api.Presentation.Entities.JourneyPlanner.DisambiguationOption, Tfl.Api.Presentation.Entities',\n",
              "   'matchQuality': 939,\n",
              "   'parameterValue': '51.46046306549,-0.44636767138',\n",
              "   'place': {'$type': 'Tfl.Api.Presentation.Entities.Place, Tfl.Api.Presentation.Entities',\n",
              "    'additionalProperties': [],\n",
              "    'commonName': 'Hillingdon, Heathrow Airport Terminal 4 Arrivals',\n",
              "    'lat': 51.46046306549,\n",
              "    'lon': -0.44636767138,\n",
              "    'placeType': 'PointOfInterest',\n",
              "    'url': '/Place/'},\n",
              "   'uri': '/journey/journeyresults/51.46046306549,-0.44636767138/to/1013746?date=20211205&time=0900&timeis=departing&journeypreference=leasttime&mode=bus&walkingspeed=average&walkingoptimization=true'},\n",
              "  {'$type': 'Tfl.Api.Presentation.Entities.JourneyPlanner.DisambiguationOption, Tfl.Api.Presentation.Entities',\n",
              "   'matchQuality': 939,\n",
              "   'parameterValue': '51.47154455027,-0.45886341771',\n",
              "   'place': {'$type': 'Tfl.Api.Presentation.Entities.Place, Tfl.Api.Presentation.Entities',\n",
              "    'additionalProperties': [],\n",
              "    'commonName': 'Hillingdon, Heathrow Airport Terminal 3 Arrivals',\n",
              "    'lat': 51.471544550269996,\n",
              "    'lon': -0.45886341771,\n",
              "    'placeType': 'PointOfInterest',\n",
              "    'url': '/Place/'},\n",
              "   'uri': '/journey/journeyresults/51.47154455027,-0.45886341771/to/1013746?date=20211205&time=0900&timeis=departing&journeypreference=leasttime&mode=bus&walkingspeed=average&walkingoptimization=true'},\n",
              "  {'$type': 'Tfl.Api.Presentation.Entities.JourneyPlanner.DisambiguationOption, Tfl.Api.Presentation.Entities',\n",
              "   'matchQuality': 933,\n",
              "   'parameterValue': '51.4697660699,-0.44946398636',\n",
              "   'place': {'$type': 'Tfl.Api.Presentation.Entities.Place, Tfl.Api.Presentation.Entities',\n",
              "    'additionalProperties': [],\n",
              "    'commonName': 'Hillingdon, United Airlines, Heathrow Airport Terminal 2',\n",
              "    'lat': 51.4697660699,\n",
              "    'lon': -0.44946398635999996,\n",
              "    'placeType': 'PointOfInterest',\n",
              "    'url': '/Place/'},\n",
              "   'uri': '/journey/journeyresults/51.4697660699,-0.44946398636/to/1013746?date=20211205&time=0900&timeis=departing&journeypreference=leasttime&mode=bus&walkingspeed=average&walkingoptimization=true'},\n",
              "  {'$type': 'Tfl.Api.Presentation.Entities.JourneyPlanner.DisambiguationOption, Tfl.Api.Presentation.Entities',\n",
              "   'matchQuality': 932,\n",
              "   'parameterValue': '1001147',\n",
              "   'place': {'$type': 'Tfl.Api.Presentation.Entities.StopPoint, Tfl.Api.Presentation.Entities',\n",
              "    'additionalProperties': [],\n",
              "    'commonName': 'Heathrow Airport Terminals 1-3, Heathrow Airport Terminals 2 & 3 Rail Station',\n",
              "    'icsCode': '1001147',\n",
              "    'lat': 51.47198549429,\n",
              "    'lon': -0.45478818469000004,\n",
              "    'modes': ['national-rail', 'tflrail'],\n",
              "    'naptanId': 'HUBH13',\n",
              "    'placeType': 'StopPoint',\n",
              "    'stopType': 'stop',\n",
              "    'url': '/StopPoint/HUBH13'},\n",
              "   'uri': '/journey/journeyresults/1001147/to/1013746?date=20211205&time=0900&timeis=departing&journeypreference=leasttime&mode=bus&walkingspeed=average&walkingoptimization=true'}],\n",
              " 'matchStatus': 'list'}"
            ]
          },
          "metadata": {},
          "execution_count": 27
        }
      ]
    },
    {
      "cell_type": "code",
      "metadata": {
        "colab": {
          "base_uri": "https://localhost:8080/"
        },
        "id": "Lin2FqNvWmtR",
        "outputId": "05564f80-4061-40c0-cc31-6a707a4e51e5"
      },
      "source": [
        "# we pick the Heathrow Airport Terminals 1-3, Heathrow Airport Terminals 2 & 3 Rail Station as start point [1001147 to 1013746]\n",
        "url_by_bus = 'https://api.tfl.gov.uk'+'/journey/journeyresults/1001147/to/1013746?date=20211205&time=0900&timeis=Departing&journeypreference=leasttime&mode=bus&walkingspeed=average&walkingoptimization=true'\n",
        "res_by_bus = requests.get(url_by_bus)\n",
        "res_by_bus.status_code\n"
      ],
      "execution_count": 28,
      "outputs": [
        {
          "output_type": "execute_result",
          "data": {
            "text/plain": [
              "200"
            ]
          },
          "metadata": {},
          "execution_count": 28
        }
      ]
    },
    {
      "cell_type": "code",
      "metadata": {
        "id": "mR2mY-f5y1XO",
        "colab": {
          "base_uri": "https://localhost:8080/"
        },
        "outputId": "3c2a2bfd-8e74-40c4-92c6-11b0e551be80"
      },
      "source": [
        "bus_route_info = res_by_bus.json()['journeys']\n",
        "bus_route_info[0].keys()"
      ],
      "execution_count": 54,
      "outputs": [
        {
          "output_type": "execute_result",
          "data": {
            "text/plain": [
              "dict_keys(['$type', 'startDateTime', 'duration', 'arrivalDateTime', 'legs', 'fare'])"
            ]
          },
          "metadata": {},
          "execution_count": 54
        }
      ]
    },
    {
      "cell_type": "code",
      "metadata": {
        "colab": {
          "base_uri": "https://localhost:8080/"
        },
        "id": "9l7rugipzDT3",
        "outputId": "0e42f034-7510-4764-eb83-81029a108602"
      },
      "source": [
        "#create a dic for bus\n",
        "travel_time_dic_bus = {}\n",
        "for i in range (len(bus_route_info)):\n",
        "  start_time = bus_route_info[i]['startDateTime']\n",
        "  duration = bus_route_info[i]['duration']\n",
        "  travel_time_dic_bus[start_time] = duration\n",
        "travel_time_dic_bus"
      ],
      "execution_count": 56,
      "outputs": [
        {
          "output_type": "execute_result",
          "data": {
            "text/plain": [
              "{'2021-12-05T08:51:00': 141,\n",
              " '2021-12-05T09:10:00': 133,\n",
              " '2021-12-05T09:15:00': 139}"
            ]
          },
          "metadata": {},
          "execution_count": 56
        }
      ]
    },
    {
      "cell_type": "code",
      "metadata": {
        "colab": {
          "base_uri": "https://localhost:8080/"
        },
        "id": "D2-9UVEgy1XO",
        "outputId": "bdab756a-794d-482f-e485-a54554c1207d"
      },
      "source": [
        "# similary apply for the same on url_by_bus except for changing the mode to tube\n",
        "# we pick the Heathrow Airport Terminals 1-3, Heathrow Airport Terminals 2 & 3 Rail Station as start point [1001147 to 1013746]\n",
        "url_by_tube = 'https://api.tfl.gov.uk'+'/journey/journeyresults/1001147/to/1013746?date=20211205&time=0900&timeis=Departing&journeypreference=leasttime&mode=tube&walkingspeed=average&walkingoptimization=true'\n",
        "res_by_tube = requests.get(url_by_tube)\n",
        "res_by_tube.status_code"
      ],
      "execution_count": 63,
      "outputs": [
        {
          "output_type": "execute_result",
          "data": {
            "text/plain": [
              "200"
            ]
          },
          "metadata": {},
          "execution_count": 63
        }
      ]
    },
    {
      "cell_type": "code",
      "metadata": {
        "id": "n1Dq3Oo0y1XO",
        "colab": {
          "base_uri": "https://localhost:8080/"
        },
        "outputId": "a3e8d646-977b-42f5-fe4b-b9b036e7bb19"
      },
      "source": [
        "tube_route_info = res_by_tube.json()['journeys']\n",
        "tube_route_info[0].keys()"
      ],
      "execution_count": 64,
      "outputs": [
        {
          "output_type": "execute_result",
          "data": {
            "text/plain": [
              "dict_keys(['$type', 'startDateTime', 'duration', 'arrivalDateTime', 'legs', 'fare'])"
            ]
          },
          "metadata": {},
          "execution_count": 64
        }
      ]
    },
    {
      "cell_type": "code",
      "metadata": {
        "id": "WtacOoqKy1XO",
        "colab": {
          "base_uri": "https://localhost:8080/"
        },
        "outputId": "9fbd2b6c-de18-45c8-87e8-6e47d888c6af"
      },
      "source": [
        "#create a dic for tube\n",
        "travel_time_dic_tube = {}\n",
        "for i in range (len(tube_route_info)):\n",
        "  start_time = tube_route_info[i]['startDateTime']\n",
        "  duration = tube_route_info[i]['duration']\n",
        "  travel_time_dic_tube[start_time] = duration\n",
        "travel_time_dic_tube"
      ],
      "execution_count": 65,
      "outputs": [
        {
          "output_type": "execute_result",
          "data": {
            "text/plain": [
              "{'2021-12-05T08:59:00': 78,\n",
              " '2021-12-05T09:04:00': 76,\n",
              " '2021-12-05T09:09:00': 76}"
            ]
          },
          "metadata": {},
          "execution_count": 65
        }
      ]
    },
    {
      "cell_type": "code",
      "metadata": {
        "colab": {
          "base_uri": "https://localhost:8080/"
        },
        "id": "7s2UqImTzxX1",
        "outputId": "539da34f-2722-46f5-bad4-81b02dc3a8e6"
      },
      "source": [
        "print(\"Travelling from Heathrow Airport to London Bridge:\")\n",
        "print(\"By bus time schedule & duration:\")\n",
        "print(travel_time_dic_bus)\n",
        "print(\"By tube time schedule & duration:\")\n",
        "print(travel_time_dic_tube)"
      ],
      "execution_count": 67,
      "outputs": [
        {
          "output_type": "stream",
          "name": "stdout",
          "text": [
            "Travelling from Heathrow Airport to London Bridge:\n",
            "By bus time schedule & duration:\n",
            "{'2021-12-05T08:51:00': 141, '2021-12-05T09:10:00': 133, '2021-12-05T09:15:00': 139}\n",
            "By tube time schedule & duration:\n",
            "{'2021-12-05T08:59:00': 78, '2021-12-05T09:04:00': 76, '2021-12-05T09:09:00': 76}\n"
          ]
        }
      ]
    }
  ]
}